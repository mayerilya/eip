{
 "cells": [
  {
   "cell_type": "code",
   "execution_count": null,
   "id": "aafb0293-619e-412b-915f-22c399e82212",
   "metadata": {
    "tags": []
   },
   "outputs": [],
   "source": [
    "import osmnx as ox\n",
    "import matplotlib.pyplot as plt\n",
    "\n",
    "# Задаем название города или его координаты\n",
    "place_name = \"Moscow\"  # Замените на конкретное название или координаты\n",
    "\n",
    "# Загрузка графа дорожной сети для выбранного города\n",
    "G = ox.graph_from_place(place_name, network_type='drive')\n",
    "\n",
    "# Визуализация графа\n",
    "ox.plot_graph(G)\n",
    "plt.title(f'Дорожная сеть города: {place_name}')\n",
    "plt.tight_layout()\n",
    "plt.show()"
   ]
  }
 ],
 "metadata": {
  "kernelspec": {
   "display_name": "Python 3 (ipykernel)",
   "language": "python",
   "name": "python3"
  },
  "language_info": {
   "codemirror_mode": {
    "name": "ipython",
    "version": 3
   },
   "file_extension": ".py",
   "mimetype": "text/x-python",
   "name": "python",
   "nbconvert_exporter": "python",
   "pygments_lexer": "ipython3",
   "version": "3.10.0"
  }
 },
 "nbformat": 4,
 "nbformat_minor": 5
}
